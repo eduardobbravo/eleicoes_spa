{
 "cells": [
  {
   "cell_type": "code",
   "execution_count": 31,
   "metadata": {},
   "outputs": [],
   "source": [
    "# RELATORIO PARA EXIBIÇÃO DE PROGRESSÃO DE VOTOS POR ANO\n",
    "\n",
    "import pandas as pd\n",
    "import openpyxl\n",
    "\n",
    "eleicao_2016 = pd.read_excel('eleicao_vereador_2016_spa.xlsx')\n",
    "eleicao_2020 = pd.read_excel('eleicao_vereador_2020_spa.xlsx')\n",
    "eleicao_2024 = pd.read_excel('eleicao_vereador_2024_spa.xlsx')"
   ]
  },
  {
   "cell_type": "code",
   "execution_count": null,
   "metadata": {},
   "outputs": [],
   "source": [
    "#Verificar quanto votos o candidato recebeu nas eleições de 2016 a 2024\n",
    "\n",
    "#Criação de um dicionário para armazenar os resultados\n",
    "resultatos_votos = {}\n",
    "\n",
    "#Busca da soma de votos do candidado em cada ano\n",
    "#2016\n",
    "soma_voto = eleicao_2016[eleicao_2016['nr_votavel'] == 43123]['qt_votos'].sum()\n",
    "resultatos_votos[43123] = {'2016': soma_voto}\n",
    "#2020\n",
    "soma_voto = eleicao_2020[eleicao_2020['nr_votavel'] == 77000]['qt_votos'].sum()\n",
    "resultatos_votos[77000] = {'2020': soma_voto}\n",
    "#2024\n",
    "soma_voto = eleicao_2024[eleicao_2024['nr_votavel'] == 22333]['qt_votos'].sum()\n",
    "resultatos_votos[22333] = {'2024':soma_voto}\n",
    "\n",
    "#Conversão do dicionário para lista\n",
    "resultados_lista = []\n",
    "for nr_votavel, anos in resultatos_votos.items():\n",
    "    for ano, total_votos in anos.items():\n",
    "        resultados_lista.append({'ano': ano, 'nr_votavel': nr_votavel, 'total_votos': total_votos})\n",
    "\n",
    "#DataFrame com as informações do total de votos de cada ano do candidato\n",
    "resultados_df = pd.DataFrame(resultados_lista)\n",
    "resultados_df.info()"
   ]
  }
 ],
 "metadata": {
  "kernelspec": {
   "display_name": "Python 3",
   "language": "python",
   "name": "python3"
  },
  "language_info": {
   "codemirror_mode": {
    "name": "ipython",
    "version": 3
   },
   "file_extension": ".py",
   "mimetype": "text/x-python",
   "name": "python",
   "nbconvert_exporter": "python",
   "pygments_lexer": "ipython3",
   "version": "3.12.5"
  }
 },
 "nbformat": 4,
 "nbformat_minor": 2
}
