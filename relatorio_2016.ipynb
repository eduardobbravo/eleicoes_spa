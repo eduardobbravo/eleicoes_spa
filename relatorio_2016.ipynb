{
 "cells": [
  {
   "cell_type": "code",
   "execution_count": 1,
   "metadata": {},
   "outputs": [],
   "source": [
    "# IMPORTA BIBLIOTECAS E LE A PLANILHA\n",
    "\n",
    "import pandas as pd\n",
    "import openpyxl\n",
    "\n",
    "pd.read_excel(\"eleicao_vereador_2016_spa.xlsx\")\n",
    "eleicao_2016 = pd.read_excel(\"eleicao_vereador_2016_spa.xlsx\")\n"
   ]
  },
  {
   "cell_type": "code",
   "execution_count": null,
   "metadata": {},
   "outputs": [],
   "source": [
    "# REALIZA A VERIFICAÇÃO TOTAL DE VOTOS DA ELEIÇÃO\n",
    "\n",
    "total_votos = eleicao_2016['qt_votos'].sum()\n",
    "total_votos\n"
   ]
  },
  {
   "cell_type": "code",
   "execution_count": null,
   "metadata": {},
   "outputs": [],
   "source": [
    "# Criação de um dicionário para armazenar os resultados\n",
    "resultados = {}\n",
    "\n",
    "# Loop sobre cada valor único em nr_votavel\n",
    "for nr in eleicao_2016['nr_votavel'].unique():\n",
    "    soma_votos = eleicao_2016[eleicao_2016['nr_votavel'] == nr]['qt_votos'].sum()\n",
    "    resultados[nr] = soma_votos\n",
    "\n",
    "# Convertendo o dicionário para um DataFrame\n",
    "resultado_df = pd.DataFrame(list(resultados.items()), columns=['nr_votavel', 'total_votos'])\n",
    "resultado_df"
   ]
  },
  {
   "cell_type": "code",
   "execution_count": null,
   "metadata": {},
   "outputs": [],
   "source": [
    "# FILTRO CANDIDATO\n",
    "\n",
    "candidato_x = resultado_df[resultado_df['nr_votavel'] == 43123]\n",
    "candidato_x"
   ]
  }
 ],
 "metadata": {
  "kernelspec": {
   "display_name": "Python 3",
   "language": "python",
   "name": "python3"
  },
  "language_info": {
   "codemirror_mode": {
    "name": "ipython",
    "version": 3
   },
   "file_extension": ".py",
   "mimetype": "text/x-python",
   "name": "python",
   "nbconvert_exporter": "python",
   "pygments_lexer": "ipython3",
   "version": "3.12.5"
  }
 },
 "nbformat": 4,
 "nbformat_minor": 2
}
