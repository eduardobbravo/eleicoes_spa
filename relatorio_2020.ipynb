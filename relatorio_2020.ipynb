{
 "cells": [
  {
   "cell_type": "code",
   "execution_count": 1,
   "metadata": {},
   "outputs": [],
   "source": [
    "# IMPORTA BIBLIOTECAS E LE A PLANILHA\n",
    "\n",
    "import pandas as pd\n",
    "import openpyxl\n",
    "\n",
    "pd.read_excel(\"eleicao_vereador_2020_spa.xlsx\")\n",
    "eleicao_2020 = pd.read_excel(\"eleicao_vereador_2020_spa.xlsx\")"
   ]
  },
  {
   "cell_type": "code",
   "execution_count": 2,
   "metadata": {},
   "outputs": [
    {
     "data": {
      "text/plain": [
       "np.int64(48943)"
      ]
     },
     "execution_count": 2,
     "metadata": {},
     "output_type": "execute_result"
    }
   ],
   "source": [
    "# REALIZA A VERIFICAÇÃO TOTAL DE VOTOS DA ELEIÇÃO\n",
    "\n",
    "total_votos = eleicao_2020['qt_votos'].sum()\n",
    "total_votos"
   ]
  },
  {
   "cell_type": "code",
   "execution_count": null,
   "metadata": {},
   "outputs": [],
   "source": [
    "# Criação de um dicionário para armazenar os resultados\n",
    "resultados = {}\n",
    "\n",
    "# Loop sobre cada valor único em nr_votavel\n",
    "for nr in eleicao_2020['nr_votavel'].unique():\n",
    "    soma_votos = eleicao_2020[eleicao_2020['nr_votavel'] == nr]['qt_votos'].sum()\n",
    "    resultados[nr] = soma_votos\n",
    "\n",
    "# Convertendo o dicionário para um DataFrame\n",
    "resultado_df = pd.DataFrame(list(resultados.items()), columns=['nr_votavel', 'total_votos'])\n",
    "resultado_df"
   ]
  },
  {
   "cell_type": "code",
   "execution_count": 4,
   "metadata": {},
   "outputs": [
    {
     "data": {
      "text/html": [
       "<div>\n",
       "<style scoped>\n",
       "    .dataframe tbody tr th:only-of-type {\n",
       "        vertical-align: middle;\n",
       "    }\n",
       "\n",
       "    .dataframe tbody tr th {\n",
       "        vertical-align: top;\n",
       "    }\n",
       "\n",
       "    .dataframe thead th {\n",
       "        text-align: right;\n",
       "    }\n",
       "</style>\n",
       "<table border=\"1\" class=\"dataframe\">\n",
       "  <thead>\n",
       "    <tr style=\"text-align: right;\">\n",
       "      <th></th>\n",
       "      <th>nr_votavel</th>\n",
       "      <th>total_votos</th>\n",
       "    </tr>\n",
       "  </thead>\n",
       "  <tbody>\n",
       "    <tr>\n",
       "      <th>13</th>\n",
       "      <td>77000</td>\n",
       "      <td>1394</td>\n",
       "    </tr>\n",
       "  </tbody>\n",
       "</table>\n",
       "</div>"
      ],
      "text/plain": [
       "    nr_votavel  total_votos\n",
       "13       77000         1394"
      ]
     },
     "execution_count": 4,
     "metadata": {},
     "output_type": "execute_result"
    }
   ],
   "source": [
    "# FILTRO CANDIDATO\n",
    "\n",
    "candidato_x = resultado_df[resultado_df['nr_votavel'] == 77000]\n",
    "candidato_x"
   ]
  }
 ],
 "metadata": {
  "kernelspec": {
   "display_name": "Python 3",
   "language": "python",
   "name": "python3"
  },
  "language_info": {
   "codemirror_mode": {
    "name": "ipython",
    "version": 3
   },
   "file_extension": ".py",
   "mimetype": "text/x-python",
   "name": "python",
   "nbconvert_exporter": "python",
   "pygments_lexer": "ipython3",
   "version": "3.12.5"
  }
 },
 "nbformat": 4,
 "nbformat_minor": 2
}
