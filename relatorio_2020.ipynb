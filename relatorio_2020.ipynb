{
 "cells": [
  {
   "cell_type": "code",
   "execution_count": 2,
   "metadata": {},
   "outputs": [],
   "source": [
    "# IMPORTA BIBLIOTECAS E LE A PLANILHA\n",
    "\n",
    "import pandas as pd\n",
    "import openpyxl\n",
    "\n",
    "pd.read_excel(\"eleicao_vereador_2020_spa.xlsx\")\n",
    "eleicao_2020 = pd.read_excel(\"eleicao_vereador_2020_spa.xlsx\")"
   ]
  },
  {
   "cell_type": "code",
   "execution_count": 3,
   "metadata": {},
   "outputs": [
    {
     "data": {
      "text/plain": [
       "np.int64(48943)"
      ]
     },
     "execution_count": 3,
     "metadata": {},
     "output_type": "execute_result"
    }
   ],
   "source": [
    "# REALIZA A VERIFICAÇÃO TOTAL DE VOTOS DA ELEIÇÃO\n",
    "\n",
    "total_votos = eleicao_2020['qt_votos'].sum()\n",
    "total_votos"
   ]
  },
  {
   "cell_type": "code",
   "execution_count": null,
   "metadata": {},
   "outputs": [
    {
     "ename": "NameError",
     "evalue": "name 'Nome' is not defined",
     "output_type": "error",
     "traceback": [
      "\u001b[1;31m---------------------------------------------------------------------------\u001b[0m",
      "\u001b[1;31mNameError\u001b[0m                                 Traceback (most recent call last)",
      "Cell \u001b[1;32mIn[7], line 6\u001b[0m\n\u001b[0;32m      4\u001b[0m \u001b[38;5;66;03m# Loop sobre cada valor único em nr_votavel\u001b[39;00m\n\u001b[0;32m      5\u001b[0m \u001b[38;5;28;01mfor\u001b[39;00m nr \u001b[38;5;129;01min\u001b[39;00m eleicao_2020[\u001b[38;5;124m'\u001b[39m\u001b[38;5;124mnr_votavel\u001b[39m\u001b[38;5;124m'\u001b[39m]\u001b[38;5;241m.\u001b[39munique():\n\u001b[1;32m----> 6\u001b[0m     soma_votos \u001b[38;5;241m=\u001b[39m eleicao_2020[eleicao_2020[\u001b[38;5;124m'\u001b[39m\u001b[38;5;124mnr_votavel\u001b[39m\u001b[38;5;124m'\u001b[39m] \u001b[38;5;241m==\u001b[39m \u001b[43mNome\u001b[49m][\u001b[38;5;124m'\u001b[39m\u001b[38;5;124mqt_votos\u001b[39m\u001b[38;5;124m'\u001b[39m]\u001b[38;5;241m.\u001b[39msum()\n\u001b[0;32m      7\u001b[0m     resultados[Nome] \u001b[38;5;241m=\u001b[39m soma_votos\n\u001b[0;32m      9\u001b[0m \u001b[38;5;66;03m# Convertendo o dicionário para um DataFrame\u001b[39;00m\n",
      "\u001b[1;31mNameError\u001b[0m: name 'Nome' is not defined"
     ]
    }
   ],
   "source": [
    "# Criação de um dicionário para armazenar os resultados\n",
    "resultados = {}\n",
    "\n",
    "# Loop sobre cada valor único em nr_votavel\n",
    "for nr in eleicao_2020['nr_votavel'].unique():\n",
    "    soma_votos = eleicao_2020[eleicao_2020['nr_votavel'] == nr]['qt_votos'].sum()\n",
    "    resultados[nr] = soma_votos\n",
    "\n",
    "# Convertendo o dicionário para um DataFrame\n",
    "resultado_df = pd.DataFrame(list(resultados.items()), columns=['nr_votavel', 'total_votos'])\n",
    "resultado_df"
   ]
  },
  {
   "cell_type": "code",
   "execution_count": 5,
   "metadata": {},
   "outputs": [
    {
     "data": {
      "text/html": [
       "<div>\n",
       "<style scoped>\n",
       "    .dataframe tbody tr th:only-of-type {\n",
       "        vertical-align: middle;\n",
       "    }\n",
       "\n",
       "    .dataframe tbody tr th {\n",
       "        vertical-align: top;\n",
       "    }\n",
       "\n",
       "    .dataframe thead th {\n",
       "        text-align: right;\n",
       "    }\n",
       "</style>\n",
       "<table border=\"1\" class=\"dataframe\">\n",
       "  <thead>\n",
       "    <tr style=\"text-align: right;\">\n",
       "      <th></th>\n",
       "      <th>nr_votavel</th>\n",
       "      <th>total_votos</th>\n",
       "    </tr>\n",
       "  </thead>\n",
       "  <tbody>\n",
       "    <tr>\n",
       "      <th>13</th>\n",
       "      <td>77000</td>\n",
       "      <td>1394</td>\n",
       "    </tr>\n",
       "  </tbody>\n",
       "</table>\n",
       "</div>"
      ],
      "text/plain": [
       "    nr_votavel  total_votos\n",
       "13       77000         1394"
      ]
     },
     "execution_count": 5,
     "metadata": {},
     "output_type": "execute_result"
    }
   ],
   "source": [
    "# FILTRO CANDIDATO\n",
    "\n",
    "candidato_x = resultado_df[resultado_df['nr_votavel'] == 77000]\n",
    "candidato_x"
   ]
  },
  {
   "cell_type": "code",
   "execution_count": 6,
   "metadata": {},
   "outputs": [
    {
     "name": "stdout",
     "output_type": "stream",
     "text": [
      "     nr_votavel  total_votos\n",
      "74           96         1785\n",
      "25           95         1657\n",
      "13        77000         1394\n",
      "137       11123         1062\n",
      "32        12345         1038\n",
      "9         10555          931\n",
      "48        77444          901\n"
     ]
    }
   ],
   "source": [
    "# prompt: quero pegar os 10 mais votados na tabela eleicao_vereador_2020_spa.xlsx\n",
    "\n",
    "# Ordena o DataFrame pela coluna 'total_votos' em ordem decrescente e pega os 10 primeiros\n",
    "top_10 = resultado_df.sort_values('total_votos', ascending=False).head(7)\n",
    "\n",
    "print(top_10)"
   ]
  }
 ],
 "metadata": {
  "kernelspec": {
   "display_name": "Python 3",
   "language": "python",
   "name": "python3"
  },
  "language_info": {
   "codemirror_mode": {
    "name": "ipython",
    "version": 3
   },
   "file_extension": ".py",
   "mimetype": "text/x-python",
   "name": "python",
   "nbconvert_exporter": "python",
   "pygments_lexer": "ipython3",
   "version": "3.12.5"
  }
 },
 "nbformat": 4,
 "nbformat_minor": 2
}
